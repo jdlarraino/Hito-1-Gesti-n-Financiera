{
  "nbformat": 4,
  "nbformat_minor": 0,
  "metadata": {
    "colab": {
      "provenance": []
    },
    "kernelspec": {
      "name": "python3",
      "display_name": "Python 3"
    },
    "language_info": {
      "name": "python"
    }
  },
  "cells": [
    {
      "cell_type": "markdown",
      "source": [
        "# **Sector y Motivación**\n",
        "La empresa escogida es Apple, la cual se encuentra en el mercado tecnológico, específicamente en el área de software, dispositivos electrónicos y servicios digitales. Compite en un sector donde la competencia es muy fuerte, destacándose Samsung y Microsoft. El primero es competencia directa, específicamente en celulares, mientras que el segundo compite tanto en software como en computadoras. Por el lado de Samsung, estos compiten con su línea de smartphones Galaxy, la cual ha sabido aprovechar el mercado, ya que venden teléfonos de diferentes gamas para abarcar a un público más amplio. Apple, por su lado, compite mediante los iPhones, que se han destacado por la calidad y seguridad de su ecosistema. En el caso de Microsoft, estos compiten mediante su sistema operativo, la línea de computadoras Surface y las herramientas de trabajo. Estos productos se han destacado por su eficiencia y utilidad para el trabajo. Por el lado de la empresa escogida, compiten a través de las MacBooks, las cuales, al igual que sus teléfonos, destacan por las mismas razones. (IvyPanda, 2020) (E.A.Journals, 2016).\n",
        "\n",
        "Este mercado se encuentra con una sobreoferta tanto de marcas como de productos, donde aparecen nuevos conceptos que, en base a la innovación, calidad y precios, buscan competir para así posicionar a sus empresas en el sector.\n",
        "Con respecto a Apple, ha sido una destacada empresa que ha logrado ser líder ya que han buscado valor en la innovación, seguridad, calidad y diseño, en resumen un ecosistema perfecto. Además, mediante la diversificación de sus productos, los cualesha logrado ser una de las empresas más valiosas del mercado, llegando a más de 2 billones de dólares en capitalización. (Khalid, 2020).\n",
        "\n",
        "\n",
        "# **Contexto**\n",
        "Apple es un activo relevante ya que como se menciono anteriormente es una de las empresas mas relevantes y valiosas del mercado. Al ser una marca estable y tener un buen rendimiento en el mercado esta se encuentra dentro del índice sp500.\n",
        "\n",
        "\n",
        "Las variables a estudiar serán las siguientes:\n",
        "\n",
        "* **Precio de las acciones**: Es importante esta variable para analizar el rendimiento de la empresa en el mercado. Los precios en el mercado tecnológico se ven afectados cuando hay lanzamientos de nuevos productos. Esta sensibilidad se puede ver como cuando salió el iphone 14 el 2022. El valor de sus acciones aumentó un hasta un 3%. (Mozée, 2022)\n",
        "* **Volumen de transacciones**: La cantidad de acciones transadas en la bolsa de Apple durante los 2 años anteriores ha sido notoriamente alta. Esto demuestra que hay un gran interés por este activo, lo que generando una mayor confianza para los inversores. Sin embargo, esto podría significar  que los beneficios que se pueden sacar de estas acciones son menores, dado que esta empresa americana es grande y estable, por lo que en la teoría de riesgo-beneficio, se corre poco riesgo, por lo tanto el beneficio debiera ser bajo. Es aqui donde toman la decisión de invertir personas con mas aversión al riesgo. El promedio diario de transacción de acciones de Apple en 2023 fue de 102 millones, lo cual es bastante alto en comparación con otras empresas del sector como Microsoft, quienes tuvieron aproximadamente 30 millones de transacciones diarias para ese año. (Yahoo finance, 2023)\n",
        "* **Capitalización del mercado**: Esta variable es importante, ya que muestra el valor total de la empresa en el mercado. Sirve para evaluar la estabilidad y el posicionamiento que tienen las empresas en sus correspondientes mercados. Este valor es el que muestra cómo empresas como Apple se posicionan como las más valiosas en sus sectores. La capitalización de Apple llegó alrededor de los 2.8 billones de dólares, posicionando a esta empresa como una de las más valiosas. (Forbes, 2023)\n",
        "\n",
        "La capitalización no solo tiene que ver con las variables anteriormente explicadas, sino que tiene relación a la constante innovación de la marca y la confianza que tienen los inversores en esta.\n",
        "\n",
        "\n",
        "Las variables recienmente mencionadas son algunas de las que se tienen que tener en cuenta antes de tomar una decisión para invertir en algún sector. Además, hay que combinarlas con otras para tener un mejor acierto y confianza al tomar la decisión.\n",
        "\n",
        "# **Derivado**\n",
        "El activo derivado escogido es una opción de compra sobre las acciones de Apple. Tienen un precio de ejercicio de 100 dólares con fecha de vencimiento para el 27 de septiembre del 2024. El precio actual de la opción es de 126,26 USD. Esta opción se puede ejercer el día de vencimiento dado que es una opción europea.\n",
        "\n",
        "Utilizando los factores de subida y bajada se obtuvieron los siguientes resultados:\n",
        "\n",
        "*En el estado bueno, el precio de la acción sube a 323,81 USD, teniendo como retorno 223,81 USD.\n",
        "\n",
        "*En el estado malo, el precio de la acción baja a 161,77 USD, teniendo como retorno 61,77 USD.\n",
        "\n",
        "La probabilidad ajustada para el estado bueno y malo fue de −20,77 y 42,99 respectivamente. Esto no puede suceder ya que una probabilidad no puede ser negativa. Este error se puede que se haya dado ya que el tiempo de vencimiento fue muy corto. (Intución propia)\n",
        "\n",
        "Los nuevos resultados fueron los siguientes:\n",
        "\n",
        "El activo derivado escogido por segunda vez tiene un precio de ejercicio de 90 dólares con fecha de vencimiento para el 19 de septiembre del 2025. El precio actual de la opción es de 141,50 USD. Esta opción se puede ejercer el día de vencimiento dado que es una opción europea.\n",
        "\n",
        "Utilizando los factores de subida y bajada se obtuvieron los siguientes resultados:\n",
        "\n",
        "* En el estado bueno, el precio de la acción sube a 274,6400 USD, teniendo como retorno 184,64 USD.\n",
        "\n",
        "* En el estado malo, el precio de la acción baja a 93,0960 USD, teniendo como retorno 3,0960 USD.\n",
        "\n",
        "La probabilidad ajustada para el estado bueno y malo fue de 22,23 y aproximadamente 0 respectivamente.\n",
        "\n",
        "Si se debiera ejercer la opciond e compra se puede ver solo a la fecha de expiracion, dado a que es una opción europea, por lo que esto quedo en duda.\n",
        "\n",
        "# **Referencias Bibliograficas**\n",
        "* European American Journals. (2016). Samsung Electronics and Apple, Inc.: A Study in Contrast in Competitive Strategies. European American Journals. Recuperado de: http://eajournals.org/wp-content/uploads/Samsung-Electronics-and-Apple-Inc.pdf (Accedido: 12 septiembre 2024).\n",
        "\n",
        "* IvyPanda. (2020). Competitive Strategies: Apple and Microsoft. Recuperado de: https://ivypanda.com/essays/competitive-strategies-apple-and-microsoft/ (Accedido: 12 septiembre 2024).\n",
        "\n",
        "* Khalid, J. (2020). Strategic Marketing Plan for Apple Inc.. SEA - Practical Application of Science. Recuperado de: https://seaopenresearch.eu/Journals/articles/NIS_21_7.pdf (Accedido: 12 septiembre 2024).\n",
        "\n",
        "* Mozée, C. (2022). Apple drops as the company reportedly nixes plans to increase iPhone 14 production on lower demand. Business Insider. Recuperado de: https://markets.businessinsider.com/news/stocks/apple-stock-price-iphone14-production-demand-tech-mobile-nasdaq-ios-2022-9 (Accedido: 22 septiembre 2024)\n",
        "\n",
        "* Yahoo Finance. (2023). Apple Inc. historical stock data. Disponible en: https://finance.yahoo.com/ (Accedido: 22 septiembre 2024).\n",
        "\n",
        "* Forbes Middle East. (2023). Apple's Journey Towards A $3T Market Capitalization. Recuperado de: https://www.forbesmiddleeast.com/money/markets/apples-road-to-a-%243-trillion-valuation (Accedido: 22 septiembre 2024).\n",
        "\n"
      ],
      "metadata": {
        "id": "EDzV9IaZ75lM"
      }
    },
    {
      "cell_type": "code",
      "metadata": {
        "id": "A94tm6BPV8ek"
      },
      "source": [
        "from sympy import *\n",
        "init_printing()\n",
        "import numpy as np\n"
      ],
      "execution_count": null,
      "outputs": []
    },
    {
      "cell_type": "markdown",
      "metadata": {
        "id": "7gFqI2F2kfBr"
      },
      "source": [
        "La estructura financiera es la siguiente:\n",
        "\n",
        "Dos periodos $t=0,1$ y 2 estados de la naturaleza en $t=1$: bueno (u) y malo (d)\n",
        "\n",
        "Dos activos:\n",
        "- libre de riesgo (bono) con valor inicial $B$ y retorno $\\tilde r>1$\n",
        "- riesgoso (acción) con valor inicial $S_0$ y retornos $u>1$ ó $1>d$\n",
        "\n",
        "Derivado: opción de compra Europea de la acción (se ejerce solo al final)\n",
        "- $K$ precio de ejercicio\n",
        "- $S_1$ valor del activo al final\n",
        "- $\\max\\{0,S_1-K\\}$ retorno para $S_1\\in\\{uS_0,dS_0\\}$"
      ]
    },
    {
      "cell_type": "markdown",
      "metadata": {
        "id": "t2bbVPgDlOC7"
      },
      "source": [
        "1. ¿Cuál es el precio de los activos no derivados?\n",
        "- De esta forma el precio del bono es $B$=100 y el precio de la acción es $S_0$=228,87.\n",
        "2. ¿Cuál es el retorno de los activos no derivados?\n",
        "- El retorno del bono es $\\tilde rB$=4,5 tanto en el estado bueno como en el estado malo\n",
        "- El retorno de la acción es $uS_0$=323,81 en el estado bueno y $dS_0$=161,77 en el estado malo\n",
        "3. ¿Cuál es el retorno de la opción?\n",
        "- Si la accion sube S1=uS0=223,81 y si baja ds0=61,77"
      ]
    },
    {
      "cell_type": "markdown",
      "metadata": {
        "id": "CLPf6mSFl--g"
      },
      "source": [
        "Inicialmente nos concentraremos en los activos no derivados. Definimos $W=\\left[-q'\\atop R\\right]$ donde los precios de los activos son $q=(q_1,q_2)=(B,S_0)$ y los retornos son $R=(R_1,R_2)$.\n",
        "1. Encuentre la expresión de $R_1$ y $R_2$.\n",
        "- $R_1$=$r_B$=4,5\n",
        "-$R_2$=323,81 en el buen estado y 161,77 en el mal estado.\n",
        "2. Encuentre $W$.\n",
        "- Esta en la salida de texto la matriz W\n",
        "\n"
      ]
    },
    {
      "cell_type": "code",
      "metadata": {
        "id": "Cy0Kv-NQWFzo"
      },
      "source": [
        "# Parámetros Bono\n",
        "r, B =symbols('r B')\n",
        "# Parámetros Acción\n",
        "u, d, S0 = symbols('u d S0')\n",
        "\n",
        "S0 = 228.87\n",
        "r = 0.045  # Tasa libre de riesgo\n",
        "#u = 1+0.2  # Factor de subida\n",
        "#d = 1-0.2  # Factor de baja\n",
        "B = 100  # Valor inicial del bono\n",
        "\n",
        "\n",
        "sigma = 2.9648  # Volatilidad en decimal\n",
        "delta_t = 362 / 365  # Tiempo hasta el vencimiento en años\n",
        "\n",
        "# Cálculo de u y d\n",
        "u = np.exp(sigma * np.sqrt(delta_t))\n",
        "d = np.exp(-sigma * np.sqrt(delta_t))"
      ],
      "execution_count": null,
      "outputs": []
    },
    {
      "cell_type": "code",
      "metadata": {
        "colab": {
          "base_uri": "https://localhost:8080/",
          "height": 78
        },
        "id": "DC8ukIQ0fhMf",
        "outputId": "dc9a6641-e214-4061-e7bc-0efe90751647"
      },
      "source": [
        "W = Matrix([[-B, -S0], [r*B, u*S0],[r*B, d*S0]])\n",
        "W"
      ],
      "execution_count": null,
      "outputs": [
        {
          "output_type": "execute_result",
          "data": {
            "text/plain": [
              "⎡-100      -228.87     ⎤\n",
              "⎢                      ⎥\n",
              "⎢4.5   4384.12310134935⎥\n",
              "⎢                      ⎥\n",
              "⎣4.5   11.9479940889155⎦"
            ],
            "text/latex": "$\\displaystyle \\left[\\begin{matrix}-100 & -228.87\\\\4.5 & 4384.12310134935\\\\4.5 & 11.9479940889155\\end{matrix}\\right]$"
          },
          "metadata": {},
          "execution_count": 20
        }
      ]
    },
    {
      "cell_type": "markdown",
      "metadata": {
        "id": "_Se_KYUTn1O2"
      },
      "source": [
        "El Teorema Fundamental de Valoración de Activos ([Harrison and Kreps (1979)](https://www.sciencedirect.com/science/article/pii/0022053179900437)) establece que la estructura financiera  es libre de arbitraje si y sólo si existe un $\\pi\\in\\mathbb{R}^S_{++}$ tal que\n",
        "\n",
        "(Condición) $[1,\\pi']W=0$.\n",
        "\n",
        "Para utilizar este resultado, definamos el vector $[1,\\pi']$."
      ]
    },
    {
      "cell_type": "code",
      "metadata": {
        "colab": {
          "base_uri": "https://localhost:8080/",
          "height": 78
        },
        "id": "lPdpudCsfv3h",
        "outputId": "fbc09fe8-bf1b-4dd2-faf0-8687ef027a87"
      },
      "source": [
        "pi_u, pi_d = symbols('pi_u pi_d')\n",
        "pi = Matrix([[1],[pi_u],[pi_d]])\n",
        "pi"
      ],
      "execution_count": null,
      "outputs": [
        {
          "output_type": "execute_result",
          "data": {
            "text/plain": [
              "⎡ 1 ⎤\n",
              "⎢   ⎥\n",
              "⎢πᵤ ⎥\n",
              "⎢   ⎥\n",
              "⎣π_d⎦"
            ],
            "text/latex": "$\\displaystyle \\left[\\begin{matrix}1\\\\\\pi_{u}\\\\\\pi_{d}\\end{matrix}\\right]$"
          },
          "metadata": {},
          "execution_count": 21
        }
      ]
    },
    {
      "cell_type": "markdown",
      "metadata": {
        "id": "BaIaSdDppauN"
      },
      "source": [
        "Reemplazando en la (Condición) obtenemos el siguiente sistema de ecuaciones:"
      ]
    },
    {
      "cell_type": "code",
      "metadata": {
        "colab": {
          "base_uri": "https://localhost:8080/",
          "height": 38
        },
        "id": "Nnl0BgZpnW7g",
        "outputId": "61eb5c63-6135-4936-f6bd-21712d62b6bb"
      },
      "source": [
        "NA=pi.transpose()*W\n",
        "NA"
      ],
      "execution_count": null,
      "outputs": [
        {
          "output_type": "execute_result",
          "data": {
            "text/plain": [
              "[4.5⋅π_d + 4.5⋅πᵤ - 100  11.9479940889155⋅π_d + 4384.12310134935⋅πᵤ - 228.87]"
            ],
            "text/latex": "$\\displaystyle \\left[\\begin{matrix}4.5 \\pi_{d} + 4.5 \\pi_{u} - 100 & 11.9479940889155 \\pi_{d} + 4384.12310134935 \\pi_{u} - 228.87\\end{matrix}\\right]$"
          },
          "metadata": {},
          "execution_count": 22
        }
      ]
    },
    {
      "cell_type": "markdown",
      "metadata": {
        "id": "cD_eUsqrp-Bd"
      },
      "source": [
        "Podemos utilizar un _solver_ algebraico para encontrar expresiones generales de $\\pi_1$ y $\\pi_2$ en función de los parámetros $u,d$ y $r$:"
      ]
    },
    {
      "cell_type": "code",
      "metadata": {
        "colab": {
          "base_uri": "https://localhost:8080/",
          "height": 39
        },
        "id": "P2Z8f4vnnkgH",
        "outputId": "00650b35-bcdb-4b13-aa7c-535b291203f0"
      },
      "source": [
        "# Solver tutorial\n",
        "# https://docs.sympy.org/latest/modules/solvers/solvers.html\n",
        "piNA=solve([NA[0],NA[1]],[pi_u,pi_d],dict=True)\n",
        "piNA"
      ],
      "execution_count": null,
      "outputs": [
        {
          "output_type": "execute_result",
          "data": {
            "text/plain": [
              "[{π_d: 22.2306027145069, πᵤ: -0.00838049228468269}]"
            ],
            "text/latex": "$\\displaystyle \\left[ \\left\\{ \\pi_{d} : 22.2306027145069, \\  \\pi_{u} : -0.00838049228468269\\right\\}\\right]$"
          },
          "metadata": {},
          "execution_count": 23
        }
      ]
    },
    {
      "cell_type": "markdown",
      "metadata": {
        "id": "LkgUfcI-hH1O"
      },
      "source": [
        "## Inclusión del derivado\n",
        "\n",
        "Ahora extendamos la matriz $W$ para incorporar la opción.\n",
        "\n",
        "1. Encuentre la expresión para $W$ agregando los retornos y el precio de la opción denotado por $q_3$."
      ]
    },
    {
      "cell_type": "code",
      "metadata": {
        "colab": {
          "base_uri": "https://localhost:8080/",
          "height": 78
        },
        "id": "vCyZW8bmX5m8",
        "outputId": "50bb9574-fa95-4107-ee90-321c351b1669"
      },
      "source": [
        "# Parámetros Opción\n",
        "q3 = symbols('q3')\n",
        "q3=141.50\n",
        "K = 90  # Strike price de la opción\n",
        "# Parámetros Bono\n",
        "r, B = 0.045, 100\n",
        "# Parámetros Acción\n",
        "u, d, S0 = 1.2, 0.8, 228.87 # Factores de subida/bajada y precio inicial de la acción\n",
        "W = Matrix([[-B, -S0, -q3], [r*B, u*S0, max(0,u*S0-K)],[r*B, d*S0, max(0,d*S0-K)]])\n",
        "W"
      ],
      "execution_count": null,
      "outputs": [
        {
          "output_type": "execute_result",
          "data": {
            "text/plain": [
              "⎡-100  -228.87  -141.5 ⎤\n",
              "⎢                      ⎥\n",
              "⎢4.5   274.644  184.644⎥\n",
              "⎢                      ⎥\n",
              "⎣4.5   183.096  93.096 ⎦"
            ],
            "text/latex": "$\\displaystyle \\left[\\begin{matrix}-100 & -228.87 & -141.5\\\\4.5 & 274.644 & 184.644\\\\4.5 & 183.096 & 93.096\\end{matrix}\\right]$"
          },
          "metadata": {},
          "execution_count": 16
        }
      ]
    },
    {
      "cell_type": "markdown",
      "metadata": {
        "id": "Nrw0Ku90rzaO"
      },
      "source": [
        "Utilice la (Condición) del Teorema Fundamental reemplazando los valores encontrados anteriormente para $\\pi$ para definir una expresión para $q_3$."
      ]
    },
    {
      "cell_type": "code",
      "metadata": {
        "colab": {
          "base_uri": "https://localhost:8080/",
          "height": 38
        },
        "id": "DYlRnularyxo",
        "outputId": "1e995d54-f4ad-49eb-8244-13cf599e6ed7"
      },
      "source": [
        "u,r,d = symbols('u r d')\n",
        "Prices=Matrix([[1],[piNA[0][pi_u]],[piNA[0][pi_d]]]).transpose()*W\n",
        "Prices"
      ],
      "execution_count": null,
      "outputs": [
        {
          "output_type": "execute_result",
          "data": {
            "text/plain": [
              "[0  1.81898940354586e-12  -1912.63]"
            ],
            "text/latex": "$\\displaystyle \\left[\\begin{matrix}0 & 1.81898940354586 \\cdot 10^{-12} & -1912.63\\end{matrix}\\right]$"
          },
          "metadata": {},
          "execution_count": 17
        }
      ]
    },
    {
      "cell_type": "code",
      "metadata": {
        "colab": {
          "base_uri": "https://localhost:8080/",
          "height": 38
        },
        "id": "_zebmDzewQX5",
        "outputId": "01b9919a-7af2-42fb-accf-79bd17b53b52"
      },
      "source": [
        "Prices.subs([(d,0.5),(u,1.5),(r,0.01)])"
      ],
      "execution_count": null,
      "outputs": [
        {
          "output_type": "execute_result",
          "data": {
            "text/plain": [
              "[0  1.81898940354586e-12  -1912.63]"
            ],
            "text/latex": "$\\displaystyle \\left[\\begin{matrix}0 & 1.81898940354586 \\cdot 10^{-12} & -1912.63\\end{matrix}\\right]$"
          },
          "metadata": {},
          "execution_count": 18
        }
      ]
    }
  ]
}